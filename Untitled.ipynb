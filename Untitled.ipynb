{
 "cells": [
  {
   "cell_type": "code",
   "execution_count": 2,
   "metadata": {
    "collapsed": true
   },
   "outputs": [],
   "source": [
    "try:\n",
    "    import unicodecsv\n",
    "except:\n",
    "    !pip install unicodecsv\n",
    "    import unicodecsv"
   ]
  },
  {
   "cell_type": "code",
   "execution_count": 3,
   "metadata": {
    "collapsed": true
   },
   "outputs": [],
   "source": [
    "try:\n",
    "    import numpy\n",
    "except:\n",
    "    !pip install numpy\n",
    "    import numpy"
   ]
  },
  {
   "cell_type": "code",
   "execution_count": 4,
   "metadata": {
    "collapsed": true
   },
   "outputs": [],
   "source": [
    "try:\n",
    "    import nltk\n",
    "except:\n",
    "    !pip install nltk\n",
    "    import nltk"
   ]
  },
  {
   "cell_type": "code",
   "execution_count": 6,
   "metadata": {
    "collapsed": true
   },
   "outputs": [],
   "source": [
    "import pandas as pd\n",
    "import numpy as np\n",
    "import time\n",
    "from sklearn.model_selection import cross_val_predict\n",
    "from sklearn import linear_model\n",
    "import matplotlib.pyplot as plt\n",
    "from sklearn.model_selection import train_test_split\n",
    "from sklearn.preprocessing import StandardScaler\n",
    "from sklearn.feature_extraction.text import TfidfVectorizer"
   ]
  },
  {
   "cell_type": "code",
   "execution_count": 7,
   "metadata": {},
   "outputs": [
    {
     "name": "stdout",
     "output_type": "stream",
     "text": [
      "We here\n",
      "Loading training set inputs took 2.078251 seconds\n"
     ]
    }
   ],
   "source": [
    "print(\"We here\")\n",
    "time1 = time.clock()\n",
    "x_dataset = pd.read_csv(\"bitcoin_dataset.csv\", delimiter=\",\", dtype=str, header=0, usecols=[\"Date\"]).values\n",
    "y_dataset = pd.read_csv(\"bitcoin_dataset.csv\", delimiter=\",\", dtype=str, header=0, usecols=[\"dervative\"]).values\n",
    "date_headlines = pd.read_csv(\"abcnews-date-text.csv\", delimiter=\",\", dtype=str, header=0, usecols=[\"publish_date\"]).values\n",
    "date3_dataset = pd.read_csv(\"news_data.csv\", delimiter=\",\", dtype=str, header=0, usecols=[\"Date\"]).values\n",
    "date4_dataset = pd.read_csv(\"nytdata.csv\", delimiter=\",\", dtype=str, header=0, usecols=[\"Date\"]).values\n",
    "text_headlines = pd.read_csv(\"abcnews-date-text.csv\", delimiter=\",\", dtype=str, header=0, usecols=[\"headline_text\"]).values\n",
    "text3_headlines = pd.read_csv(\"news_data.csv\", delimiter=\",\", dtype=str, header=0, usecols=[\"headline_text\"]).values\n",
    "text4_headlines = pd.read_csv(\"nytdata.csv\", delimiter=\",\", dtype=str, header=0, usecols=[\"headline_text\"]).values\n",
    "time2 = time.clock()\n",
    "print(\"Loading training set inputs took \" + str(time2-time1) + \" seconds\")\n",
    "\n",
    "x_dataset = x_dataset.tolist()\n",
    "y_dataset = y_dataset.tolist()\n",
    "date_headlines = date_headlines.tolist()\n",
    "text_headlines = text_headlines.tolist()"
   ]
  },
  {
   "cell_type": "code",
   "execution_count": 8,
   "metadata": {
    "collapsed": true
   },
   "outputs": [],
   "source": [
    "for i in range(len(x_dataset)):\n",
    "    string = str(x_dataset[i])\n",
    "    string = string.replace(\"-\",\"\")\n",
    "    x_dataset[i] = string[2:10]"
   ]
  },
  {
   "cell_type": "code",
   "execution_count": 9,
   "metadata": {},
   "outputs": [
    {
     "name": "stdout",
     "output_type": "stream",
     "text": [
      "20030219\n"
     ]
    }
   ],
   "source": [
    "for j in range(len(date_headlines)):\n",
    "    string = str(date_headlines[j])\n",
    "    string = string.replace(\"'\",\"\")\n",
    "    string = string.replace(\"[\",\"\")\n",
    "    string = string.replace(\"]\",\"\")\n",
    "    date_headlines[j] = string\n",
    "print(date_headlines[0])"
   ]
  },
  {
   "cell_type": "code",
   "execution_count": 10,
   "metadata": {},
   "outputs": [
    {
     "name": "stdout",
     "output_type": "stream",
     "text": [
      "aba decides against community broadcasting licence\n"
     ]
    }
   ],
   "source": [
    "for k in range(len(text_headlines)):\n",
    "    string = str(text_headlines[k])\n",
    "    string = string.replace(\"'\",\"\")\n",
    "    string = string.replace(\"[\",\"\")\n",
    "    string = string.replace(\"]\",\"\")\n",
    "    text_headlines[k] = string\n",
    "print(text_headlines[0])"
   ]
  },
  {
   "cell_type": "code",
   "execution_count": 11,
   "metadata": {},
   "outputs": [
    {
     "name": "stdout",
     "output_type": "stream",
     "text": [
      "Loading this took 499.177401 seconds\n"
     ]
    }
   ],
   "source": [
    "j = 0\n",
    "time1 = time.clock()\n",
    "for f in x_dataset:\n",
    "    stuff = ' '\n",
    "    i = 0\n",
    "    for m in date_headlines:\n",
    "        if (m == f):\n",
    "            stuff += text_headlines[i]\n",
    "            stuff += ' '\n",
    "        i = i + 1\n",
    "    x_dataset[j] = stuff\n",
    "    j = j + 1\n",
    "time2 = time.clock()\n",
    "print(\"Loading this took \" + str(time2-time1) + \" seconds\")"
   ]
  },
  {
   "cell_type": "code",
   "execution_count": 13,
   "metadata": {},
   "outputs": [],
   "source": [
    "import csv\n",
    "with open('x_dataset.csv', \"wb\") as csvfile:\n",
    "    writer = csv.writer(csvfile)\n",
    "    header = \"headlines\"\n",
    "    writer.writerow([header])\n",
    "    for i in range(len(x_dataset)):\n",
    "        writer.writerow([x_dataset[i]])"
   ]
  },
  {
   "cell_type": "code",
   "execution_count": null,
   "metadata": {
    "collapsed": true
   },
   "outputs": [],
   "source": []
  }
 ],
 "metadata": {
  "kernelspec": {
   "display_name": "Python 2",
   "language": "python",
   "name": "python2"
  },
  "language_info": {
   "codemirror_mode": {
    "name": "ipython",
    "version": 2
   },
   "file_extension": ".py",
   "mimetype": "text/x-python",
   "name": "python",
   "nbconvert_exporter": "python",
   "pygments_lexer": "ipython2",
   "version": "2.7.13"
  }
 },
 "nbformat": 4,
 "nbformat_minor": 2
}
