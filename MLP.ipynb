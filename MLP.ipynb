{
 "cells": [
  {
   "cell_type": "code",
   "execution_count": 2,
   "metadata": {
    "collapsed": true
   },
   "outputs": [],
   "source": [
    "try:\n",
    "    import unicodecsv\n",
    "except:\n",
    "    !pip install unicodecsv\n",
    "    import unicodecsv"
   ]
  },
  {
   "cell_type": "code",
   "execution_count": 3,
   "metadata": {
    "collapsed": true
   },
   "outputs": [],
   "source": [
    "try:\n",
    "    import numpy\n",
    "except:\n",
    "    !pip install numpy\n",
    "    import numpy"
   ]
  },
  {
   "cell_type": "code",
   "execution_count": 4,
   "metadata": {
    "collapsed": true
   },
   "outputs": [],
   "source": [
    "try:\n",
    "    import nltk\n",
    "except:\n",
    "    !pip install nltk\n",
    "    import nltk"
   ]
  },
  {
   "cell_type": "code",
   "execution_count": 5,
   "metadata": {
    "collapsed": true
   },
   "outputs": [],
   "source": [
    "import matplotlib.pyplot as plt\n",
    "import pandas as pd\n",
    "import numpy as np\n",
    "import time\n",
    "from sklearn.model_selection import train_test_split\n",
    "from sklearn.feature_extraction.text import TfidfVectorizer"
   ]
  },
  {
   "cell_type": "code",
   "execution_count": 13,
   "metadata": {
    "scrolled": true
   },
   "outputs": [
    {
     "name": "stdout",
     "output_type": "stream",
     "text": [
      "Loading training set inputs took 7.10000000002e-05 seconds\n"
     ]
    }
   ],
   "source": [
    "time1 = time.clock()\n",
    "y_dataset = pd.read_csv(\"././data/bitcoin_dataset.csv\", delimiter=\",\", dtype=str, header=0, usecols=[\"dervative\"]).values\n",
    "\n",
    "date_headlines = pd.read_csv(\"././data/abcnews-date-text.csv\", delimiter=\",\", dtype=str, header=0, usecols=[\"publish_date\"]).values\n",
    "#date3_dataset = pd.read_csv(\"././data/news_data.csv\", delimiter=\",\", dtype=str, header=0, usecols=[\"Date\"]).values\n",
    "#date4_dataset = pd.read_csv(\"././data/nytdata.csv\", delimiter=\",\", dtype=str, header=0, usecols=[\"Date\"]).values\n",
    "\n",
    "text_headlines = pd.read_csv(\"././data/abcnews-date-text.csv\", delimiter=\",\", dtype=str, header=0, usecols=[\"headline_text\"]).values\n",
    "#text3_headlines = pd.read_csv(\"././data/news_data.csv\", delimiter=\",\", dtype=str, header=0, usecols=[\"headline_text\"]).values\n",
    "#text4_headlines = pd.read_csv(\"././data/nytdata.csv\", delimiter=\",\", dtype=str, header=0, usecols=[\"headline_text\"]).values\n",
    "\n",
    "time2 = time.clock()\n",
    "print(\"Loading training set inputs took \" + str(time2-time1) + \" seconds\")\n",
    "\n",
    "x_dataset = x_dataset.tolist()\n",
    "y_dataset = y_dataset.tolist()\n",
    "date_headlines = date_headlines.tolist()\n",
    "text_headlines = text_headlines.tolist()"
   ]
  },
  {
   "cell_type": "code",
   "execution_count": 80,
   "metadata": {
    "collapsed": true
   },
   "outputs": [],
   "source": [
    "for i in range(len(x_dataset)):\n",
    "    string = str(x_dataset[i])\n",
    "    string = string.replace(\"-\",\"\")\n",
    "    x_dataset[i] = string[2:10]"
   ]
  },
  {
   "cell_type": "code",
   "execution_count": 6,
   "metadata": {},
   "outputs": [
    {
     "name": "stdout",
     "output_type": "stream",
     "text": [
      "20030219\n"
     ]
    }
   ],
   "source": [
    "for j in range(len(date_headlines)):\n",
    "    string = str(date_headlines[j])\n",
    "    string = string.replace(\"'\",\"\")\n",
    "    string = string.replace(\"[\",\"\")\n",
    "    string = string.replace(\"]\",\"\")\n",
    "    date_headlines[j] = string"
   ]
  },
  {
   "cell_type": "code",
   "execution_count": 7,
   "metadata": {},
   "outputs": [
    {
     "name": "stdout",
     "output_type": "stream",
     "text": [
      "aba decides against community broadcasting licence\n"
     ]
    }
   ],
   "source": [
    "for k in range(len(text_headlines)):\n",
    "    string = str(text_headlines[k])\n",
    "    string = string.replace(\"'\",\"\")\n",
    "    string = string.replace(\"[\",\"\")\n",
    "    string = string.replace(\"]\",\"\")\n",
    "    text_headlines[k] = string"
   ]
  },
  {
   "cell_type": "code",
   "execution_count": 14,
   "metadata": {},
   "outputs": [],
   "source": [
    "j = 0\n",
    "time1 = time.clock()\n",
    "for f in x_dataset:\n",
    "    curr = ' '\n",
    "    i = 0\n",
    "    for m in date_headlines:\n",
    "        if (m == f):\n",
    "            curr += text_headlines[i]\n",
    "            curr += ' '\n",
    "        i = i + 1\n",
    "    x_dataset[j] = curr\n",
    "    j = j + 1\n",
    "time2 = time.clock()\n",
    "print(\"Loading this part took \" + str(time2-time1) + \" seconds\")\n",
    "\n",
    "# x_dataset = np.loadtxt(\"x_dataset.csv\", delimiter=\",\", dtype=str, skiprows=1)\n",
    "# print(x_dataset[0])"
   ]
  },
  {
   "cell_type": "code",
   "execution_count": 13,
   "metadata": {},
   "outputs": [
    {
     "name": "stdout",
     "output_type": "stream",
     "text": [
      "['20140227']\n"
     ]
    }
   ],
   "source": [
    "# for j in range(len(date3_dataset)):\n",
    "#     string = str(date3_dataset[j])\n",
    "#     string = string.replace(\"'\",\"\")\n",
    "#     string = string.replace(\"[\",\"\")\n",
    "#     string = string.replace(\"]\",\"\")\n",
    "#     date3_dataset[j] = string\n",
    "# print(date3_dataset[0])"
   ]
  },
  {
   "cell_type": "code",
   "execution_count": 15,
   "metadata": {},
   "outputs": [
    {
     "name": "stdout",
     "output_type": "stream",
     "text": [
      "0\n"
     ]
    }
   ],
   "source": [
    "# for r in range(len(date4_dataset)):\n",
    "#     string = str(date4_dataset[r])\n",
    "#     string = string.replace(\"'\",\"\")\n",
    "#     string = string.replace(\"[\",\"\")\n",
    "#     string = string.replace(\"]\",\"\")\n",
    "#     date4_dataset = string"
   ]
  },
  {
   "cell_type": "code",
   "execution_count": 17,
   "metadata": {},
   "outputs": [
    {
     "name": "stdout",
     "output_type": "stream",
     "text": [
      "['\"How a bug in bitcoin led to MtGoxs collapse\"']\n"
     ]
    }
   ],
   "source": [
    "# for k in range(len(text3_headlines)):\n",
    "#     string = str(text3_headlines[k])\n",
    "#     string = string.replace(\"'\",\"\")\n",
    "#     string = string.replace(\"[\",\"\")\n",
    "#     string = string.replace(\"]\",\"\")\n",
    "#     text3_headlines[k] = string\n",
    "# print(text3_headlines[0])"
   ]
  },
  {
   "cell_type": "code",
   "execution_count": 21,
   "metadata": {},
   "outputs": [
    {
     "name": "stdout",
     "output_type": "stream",
     "text": [
      "['How a bug in bitcoin led to MtGoxs collapse']\n"
     ]
    }
   ],
   "source": [
    "# for k in range(len(text3_headlines)):\n",
    "#     string = str(text3_headlines[k])\n",
    "#     string = string.replace('\"',\"\")\n",
    "#     string = string.replace(\"\\\\\",\"\")\n",
    "#     string = string.replace(\"]\",\"\")\n",
    "#     string = string.replace(\"[\",\"\")\n",
    "#     string = string.replace(\"'\",\"\")\n",
    "#     text3_headlines[k] = string\n",
    "# print(text3_headlines[0])"
   ]
  },
  {
   "cell_type": "code",
   "execution_count": 15,
   "metadata": {},
   "outputs": [],
   "source": [
    "# j = 0\n",
    "# time1 = time.clock()\n",
    "# for f in x_dataset:\n",
    "#     stuff = ' '\n",
    "#     i = 0\n",
    "#     for m in date3_dataset:\n",
    "#         if (m == f):\n",
    "#             stuff += text3_headlines[i]\n",
    "#             stuff += ' '\n",
    "#         i = i + 1\n",
    "#     x_dataset[j] = stuff\n",
    "#     j = j + 1\n",
    "# time2 = time.clock()\n",
    "# print(\"Loading this took \" + str(time2-time1) + \" seconds\")"
   ]
  },
  {
   "cell_type": "code",
   "execution_count": 9,
   "metadata": {
    "collapsed": true
   },
   "outputs": [],
   "source": [
    "y_dataset[0] = 0\n",
    "y_dataset[2605] = 0.5\n",
    "for r in range(len(y_dataset)):\n",
    "    string = str(y_dataset[r])\n",
    "    string = string.replace(\"'\",\"\")\n",
    "    string = string.replace(\"[\",\"\")\n",
    "    string = string.replace(\"]\",\"\")\n",
    "    y_dataset[r] = float(string)"
   ]
  },
  {
   "cell_type": "code",
   "execution_count": 16,
   "metadata": {},
   "outputs": [],
   "source": [
    "for r in range(len(y_dataset)):\n",
    "    #Stability\n",
    "    if(y_dataset[r] > -0.33 and y_dataset[r] < 0.53):\n",
    "        y_dataset[r] = 2\n",
    "    #Low Increase\n",
    "    if(y_dataset[r] < 2.50 and y_dataset[r] >= 0.53):\n",
    "        y_dataset[r] = 3\n",
    "    #High Increase\n",
    "    if(y_dataset[r] >= 2.50):\n",
    "        y_dataset[r] = 4\n",
    "    #High Decrease\n",
    "    if(y_dataset[r] <= -1.91):\n",
    "        y_dataset[r] = 0\n",
    "    #Low Decrease\n",
    "    if(y_dataset[r] <= -0.33 and y_dataset[r] > -1.91):\n",
    "        y_dataset[r] = 1"
   ]
  },
  {
   "cell_type": "code",
   "execution_count": 18,
   "metadata": {
    "collapsed": true
   },
   "outputs": [],
   "source": [
    "def create_vectorizer():\n",
    "    # Arguments here are tweaked for working with a particular data set.\n",
    "    # All that's really needed is the input argument.\n",
    "    return TfidfVectorizer(input='content', max_features=200,\n",
    "                           max_df=0.05,\n",
    "                           stop_words='english')"
   ]
  },
  {
   "cell_type": "code",
   "execution_count": 19,
   "metadata": {},
   "outputs": [],
   "source": [
    "for j in range(len(x_dataset)):\n",
    "    string = np.array2string(x_dataset[j])\n",
    "    string = string.replace(\"'\",\"\")\n",
    "    string = string.replace(\"[\",\"\")\n",
    "    string = string.replace(\"]\",\"\")\n",
    "    x_dataset[j] = str(string)"
   ]
  },
  {
   "cell_type": "code",
   "execution_count": 13,
   "metadata": {
    "collapsed": true
   },
   "outputs": [],
   "source": [
    "x_dataset_try = x_dataset\n",
    "vectorizer = create_vectorizer()\n",
    "tfidf_result = vectorizer.fit_transform(x_dataset_try.ravel())"
   ]
  },
  {
   "cell_type": "code",
   "execution_count": 15,
   "metadata": {},
   "outputs": [
    {
     "name": "stdout",
     "output_type": "stream",
     "text": [
      "0\n"
     ]
    }
   ],
   "source": [
    "n = 0\n",
    "j = 0\n",
    "for i in range(len(y_dataset)):\n",
    "    if(y_dataset[j] == 3):\n",
    "        n = n + 1\n",
    "    j = j + 1\n",
    "print(n)"
   ]
  },
  {
   "cell_type": "code",
   "execution_count": 39,
   "metadata": {
    "collapsed": true
   },
   "outputs": [],
   "source": [
    "from sklearn.neural_network import MLPClassifier\n",
    "MLP = MLPClassifier(random_state=1, max_iter=1000, learning_rate='adaptive')\n",
    "X_train, X_test, y_train, y_test = train_test_split(tfidf_result, y_dataset, train_size=0.7, test_size=0.3)"
   ]
  },
  {
   "cell_type": "code",
   "execution_count": 20,
   "metadata": {},
   "outputs": [],
   "source": [
    "MLP.fit(X_train,y_train)\n",
    "score = MLP.score(X_test,y_test) * 100\n",
    "print(\"Test score: %.4f\" % score)"
   ]
  },
  {
   "cell_type": "code",
   "execution_count": 36,
   "metadata": {
    "collapsed": true
   },
   "outputs": [],
   "source": [
    "xtfidf2 = vectorizer.transform(np.array(['australia crisis senate concern problem high rates']))\n",
    "results = MLP.predict(xtfidf2)"
   ]
  }
 ],
 "metadata": {
  "kernelspec": {
   "display_name": "Python 2",
   "language": "python",
   "name": "python2"
  },
  "language_info": {
   "codemirror_mode": {
    "name": "ipython",
    "version": 2.0
   },
   "file_extension": ".py",
   "mimetype": "text/x-python",
   "name": "python",
   "nbconvert_exporter": "python",
   "pygments_lexer": "ipython2",
   "version": "2.7.13"
  }
 },
 "nbformat": 4,
 "nbformat_minor": 0
}